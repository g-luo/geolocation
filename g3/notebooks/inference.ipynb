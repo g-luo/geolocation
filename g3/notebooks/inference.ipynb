{
 "cells": [
  {
   "cell_type": "code",
   "execution_count": null,
   "metadata": {},
   "outputs": [],
   "source": [
    "%load_ext autoreload\n",
    "%autoreload 2\n",
    "\n",
    "import glob\n",
    "import json\n",
    "from omegaconf import OmegaConf\n",
    "import os\n",
    "import numpy as np\n",
    "import pickle\n",
    "from sklearn.metrics import confusion_matrix\n",
    "import torch\n",
    "from tqdm import tqdm\n",
    "from pathlib import Path\n",
    "\n",
    "import sys\n",
    "sys.path.append(\"../\")\n",
    "from classification.train.train_classification import MultiPartitioningClassifier, load_yaml"
   ]
  },
  {
   "cell_type": "code",
   "execution_count": null,
   "metadata": {},
   "outputs": [],
   "source": [
    "# Change working directory so that relative paths are based from `ROOT/g3/` and not\n",
    "# `ROOT/g3/notebooks/`. This is necessary for MultiPartitioningClassifier to work:\n",
    "os.chdir(Path(\"../\"))"
   ]
  },
  {
   "cell_type": "code",
   "execution_count": null,
   "metadata": {},
   "outputs": [],
   "source": [
    "device = \"cuda\"\n",
    "def run_val(model):\n",
    "    i = 0\n",
    "    predictions = []\n",
    "    attentions = []\n",
    "    labels = []\n",
    "    batch_ids = []\n",
    "    outputs = []\n",
    "\n",
    "    for j, batch in enumerate(tqdm(model.val_dataloader())):\n",
    "        with torch.no_grad():\n",
    "            images, target, lats, lngs, ids = batch\n",
    "            images, target = images.to(device), target.to(device)\n",
    "            output = model((images, ids))\n",
    "            predictions.append(output[\"output\"][i])\n",
    "            if \"attn\" in output:\n",
    "                attentions.append(output[\"attn\"][\"attn_scores\"])\n",
    "            if type(target) is list:\n",
    "                labels.append(target[i])\n",
    "            else:\n",
    "                labels.append(target)\n",
    "            batch_ids.extend(ids)\n",
    "    predictions = torch.cat(predictions)\n",
    "    labels = torch.cat(labels)\n",
    "    if attentions:\n",
    "        attentions = torch.cat(attentions)\n",
    "    return predictions, labels, attentions, batch_ids\n",
    "\n",
    "def get_class_accuracies(y_true, y_pred, labels):\n",
    "    cm = confusion_matrix(y_true.flatten(), y_pred.flatten(), labels=labels)\n",
    "    cm = cm.astype('float') / cm.sum(axis=1)[:, np.newaxis]\n",
    "    return np.diagonal(cm)\n",
    "\n",
    "def validate(predictions, labels):\n",
    "    for k in [1, 5, 10]:\n",
    "        chosen_predictions = predictions.topk(k=k, dim=-1).indices\n",
    "        correct = torch.any(chosen_predictions == labels.unsqueeze(dim=-1), dim=-1).sum()\n",
    "        correct = correct.item() / len(labels)\n",
    "        print(f\"top-{k} acc:\", correct)\n",
    "    labels = labels.detach().cpu().numpy()\n",
    "    final_predictions = predictions.argmax(dim=-1).detach().cpu().numpy()\n",
    "    class_accs = get_class_accuracies(labels, final_predictions, range(249))\n",
    "    print(\"avg class acc:\", np.nanmean(class_accs))\n",
    "        \n",
    "def save(name, config, predictions, labels, attentions, batch_ids):\n",
    "    anns = []\n",
    "    for i in range(labels.shape[0]):\n",
    "        ann = {}\n",
    "        ann[\"label\"] = labels[i].item()\n",
    "        ann[\"predictions\"] = predictions[i].cpu().numpy()\n",
    "        if attentions != []:\n",
    "            ann[\"attn\"] = attentions[i].cpu().numpy()\n",
    "        ann[\"id\"] = batch_ids[i]\n",
    "        anns.append(ann)\n",
    "\n",
    "    folder = os.path.dirname(config.model_params.weights).replace(\"/ckpts\", \"\")\n",
    "    pickle.dump(anns, open(f\"{folder}/{name}\", \"wb\"))"
   ]
  },
  {
   "cell_type": "code",
   "execution_count": null,
   "metadata": {},
   "outputs": [],
   "source": [
    "out_dir = Path(\"../g3/weights\").resolve()\n",
    "assert out_dir.exists(), str(out_dir)\n",
    "\n",
    "# Evaluate trained weights\n",
    "# configs = {\n",
    "#     f\"{out_dir}/resnet50_image\": \"resnet50_image.yml\",\n",
    "#     f\"{out_dir}/resnet50_image_and_clip\": \"resnet50_image_and_clip.yml\",\n",
    "#     f\"{out_dir}/resnet50_image_and_clues\": \"resnet50_image_and_clues.yml\",\n",
    "#     f\"{out_dir}/resnet50_image_clip_clues\": \"resnet50_image_clip_clues.yml\",\n",
    "# }\n",
    "\n",
    "# Evaluate publicly shared weights\n",
    "configs = {\n",
    "    f\"{out_dir / 'g3'}\": \"resnet50_image_clip_clues.yml\",\n",
    "}"
   ]
  },
  {
   "cell_type": "code",
   "execution_count": null,
   "metadata": {},
   "outputs": [],
   "source": [
    "eval_test = True\n",
    "save_predictions = False"
   ]
  },
  {
   "cell_type": "code",
   "execution_count": null,
   "metadata": {},
   "outputs": [],
   "source": [
    "for folder, config_name in configs.items():\n",
    "    for ckpt in glob.glob(f\"{folder}/*/ckpts/last.ckpt\"):\n",
    "        config = load_yaml(f\"./config/{config_name}\")\n",
    "        config.model_params.weights = ckpt\n",
    "\n",
    "        if eval_test:\n",
    "            config.model_params.msgpack_val_dir = \"${data_dir}/dataset/test/msgpack\"\n",
    "            config.model_params.val_meta_path = \"${data_dir}/dataset/test/test.csv\"\n",
    "            config.model_params.val_label_mapping = \"${data_dir}/dataset/test/label_mapping/countries.json\"\n",
    "            name = \"predictions_test.json\"\n",
    "        else:\n",
    "            name = \"predictions_val.json\"\n",
    "\n",
    "        model = MultiPartitioningClassifier(config[\"model_params\"], None)\n",
    "        model = model.to(device)\n",
    "        model = model.eval()\n",
    "\n",
    "        predictions, labels, attentions, batch_ids = run_val(model)\n",
    "        validate(predictions, labels)\n",
    "\n",
    "        if save_predictions:\n",
    "            save(name, config, predictions, labels, attentions, batch_ids)"
   ]
  }
 ],
 "metadata": {
  "kernelspec": {
   "display_name": "Python 3.7.12 ('im2gps_kb')",
   "language": "python",
   "name": "python3"
  },
  "language_info": {
   "codemirror_mode": {
    "name": "ipython",
    "version": 3
   },
   "file_extension": ".py",
   "mimetype": "text/x-python",
   "name": "python",
   "nbconvert_exporter": "python",
   "pygments_lexer": "ipython3",
   "version": "3.7.12"
  },
  "vscode": {
   "interpreter": {
    "hash": "93f0c0e7914beafa5493c8c51b4820fa20bf48775a99e758941531f9b98e3c36"
   }
  }
 },
 "nbformat": 4,
 "nbformat_minor": 2
}
